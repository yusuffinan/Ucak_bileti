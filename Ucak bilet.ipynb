{
 "cells": [
  {
   "cell_type": "code",
   "execution_count": 204,
   "id": "30f00f15",
   "metadata": {},
   "outputs": [],
   "source": [
    "class fly():\n",
    "    airline = \"THY\"\n",
    "    \n",
    "    def __init__(self, kod, kalkis, varis, sure, kapasite, yolcu):\n",
    "        self.kod = kod\n",
    "        self.kalkis = kalkis\n",
    "        self.varis = varis\n",
    "        self.sure = sure\n",
    "        self.kapasite = kapasite\n",
    "        self.yolcu = yolcu\n",
    "    def anons(self):\n",
    "        return(f\"{self.kod} isimli, {self.kalkis}, {self.varis} uçağı, {self.sure} sürecektir\")\n",
    "    \n",
    "    def koltuk_guncelle(self):\n",
    "        return self.kapasite - self.yolcu\n",
    "    \n",
    "    def biletsatis(self, biletadedi=1):\n",
    "        if self.yolcu + biletadedi <= self.kapasite:\n",
    "            self.yolcu += biletadedi\n",
    "            self.koltuk_guncelle()\n",
    "            return (\"{}adet koltuk satılmış olup kalan koltuk sayısı {}\".format(biletadedi, self.koltuk_guncelle()))\n",
    "        else: \n",
    "            return(\"yer kalmadı\")\n",
    "    def iptal(self, iptaladedi =1):\n",
    "        if self.yolcu >= iptaladedi:\n",
    "            self.yolcu -= iptaladedi\n",
    "            self.koltuk_guncelle()\n",
    "            return (\"{}adet koltuk iptal edilmiş olup kalan koltuk sayısı {}\".format(iptaladedi, self.koltuk_guncelle()))\n",
    "        else: \n",
    "            return(\"o kadar iptal işlemi yapılamaz\")"
   ]
  },
  {
   "cell_type": "code",
   "execution_count": 205,
   "id": "5da19194",
   "metadata": {},
   "outputs": [],
   "source": [
    "fly5 = fly(\"TK77\", \"adn\",\"mers\",12,100,60)"
   ]
  },
  {
   "cell_type": "code",
   "execution_count": 216,
   "id": "10df2823",
   "metadata": {},
   "outputs": [
    {
     "data": {
      "text/plain": [
       "0"
      ]
     },
     "execution_count": 216,
     "metadata": {},
     "output_type": "execute_result"
    }
   ],
   "source": [
    "fly5.koltuk_guncelle()"
   ]
  },
  {
   "cell_type": "code",
   "execution_count": 215,
   "id": "dd42723e",
   "metadata": {},
   "outputs": [
    {
     "data": {
      "text/plain": [
       "'100adet koltuk satılmış olup kalan koltuk sayısı 0'"
      ]
     },
     "execution_count": 215,
     "metadata": {},
     "output_type": "execute_result"
    }
   ],
   "source": [
    "fly5.biletsatis(100)"
   ]
  },
  {
   "cell_type": "code",
   "execution_count": 213,
   "id": "7dfe9861",
   "metadata": {},
   "outputs": [
    {
     "data": {
      "text/plain": [
       "'o kadar iptal işlemi yapılamaz'"
      ]
     },
     "execution_count": 213,
     "metadata": {},
     "output_type": "execute_result"
    }
   ],
   "source": [
    "fly5.iptal(15)"
   ]
  },
  {
   "cell_type": "code",
   "execution_count": 34,
   "id": "2a3200df",
   "metadata": {},
   "outputs": [],
   "source": [
    "fly3 = fly(\"tk444\", \"ank\",\"izmir\",\"40 dakika\",40,60)"
   ]
  },
  {
   "cell_type": "code",
   "execution_count": 35,
   "id": "ec9e5eb9",
   "metadata": {},
   "outputs": [
    {
     "data": {
      "text/plain": [
       "'tk444 isimli, ank, izmir uçağı, 40 sürecektir'"
      ]
     },
     "execution_count": 35,
     "metadata": {},
     "output_type": "execute_result"
    }
   ],
   "source": [
    "fly3.anons()"
   ]
  },
  {
   "cell_type": "code",
   "execution_count": 32,
   "id": "2b099d5f",
   "metadata": {},
   "outputs": [],
   "source": [
    "fly2 = fly(\"tk123\", \"ist\",\"abd\",50,100,210)"
   ]
  },
  {
   "cell_type": "code",
   "execution_count": 3,
   "id": "719a090c",
   "metadata": {},
   "outputs": [
    {
     "data": {
      "text/plain": [
       "'THY'"
      ]
     },
     "execution_count": 3,
     "metadata": {},
     "output_type": "execute_result"
    }
   ],
   "source": [
    "fly1.airline"
   ]
  },
  {
   "cell_type": "code",
   "execution_count": 28,
   "id": "cedc39bc",
   "metadata": {},
   "outputs": [
    {
     "data": {
      "text/plain": [
       "'abd'"
      ]
     },
     "execution_count": 28,
     "metadata": {},
     "output_type": "execute_result"
    }
   ],
   "source": [
    "fly2.varis"
   ]
  },
  {
   "cell_type": "code",
   "execution_count": 14,
   "id": "24a5e032",
   "metadata": {},
   "outputs": [],
   "source": [
    "fly1 = fly (\"TK456\",\"izm\",\"ank\",40,250,60)"
   ]
  },
  {
   "cell_type": "code",
   "execution_count": 82,
   "id": "27fec17c",
   "metadata": {},
   "outputs": [],
   "source": [
    "class personal():\n",
    "    musteri =\"ysi\"\n",
    "    now = 0\n",
    "    def __init__(self, isim, age, boy):\n",
    "        self.isim = isim\n",
    "        self.age = age\n",
    "        self.boy = boy\n",
    "    def hesapla(self): \n",
    "        return 2023 - self.age"
   ]
  },
  {
   "cell_type": "code",
   "execution_count": 83,
   "id": "26be19c8",
   "metadata": {},
   "outputs": [],
   "source": [
    "ahmet = personal(\"ahmet\", 1991, 189)"
   ]
  },
  {
   "cell_type": "code",
   "execution_count": 84,
   "id": "93ca73f5",
   "metadata": {},
   "outputs": [
    {
     "data": {
      "text/plain": [
       "32"
      ]
     },
     "execution_count": 84,
     "metadata": {},
     "output_type": "execute_result"
    }
   ],
   "source": [
    "ahmet.hesapla()"
   ]
  },
  {
   "cell_type": "code",
   "execution_count": 13,
   "id": "74ac1005",
   "metadata": {},
   "outputs": [
    {
     "data": {
      "text/plain": [
       "'THY'"
      ]
     },
     "execution_count": 13,
     "metadata": {},
     "output_type": "execute_result"
    }
   ],
   "source": [
    "fly2.airline"
   ]
  }
 ],
 "metadata": {
  "kernelspec": {
   "display_name": "Python 3 (ipykernel)",
   "language": "python",
   "name": "python3"
  },
  "language_info": {
   "codemirror_mode": {
    "name": "ipython",
    "version": 3
   },
   "file_extension": ".py",
   "mimetype": "text/x-python",
   "name": "python",
   "nbconvert_exporter": "python",
   "pygments_lexer": "ipython3",
   "version": "3.11.3"
  }
 },
 "nbformat": 4,
 "nbformat_minor": 5
}
